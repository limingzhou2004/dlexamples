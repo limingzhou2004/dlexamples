{
 "cells": [
  {
   "cell_type": "markdown",
   "id": "a7f80230-66e1-4d4b-939e-d01eb1bed3e5",
   "metadata": {},
   "source": [
    "### Lineapy to automate data science work\n",
    "\n",
    "\n",
    "<div>\n",
    "<img src=\"https://user-images.githubusercontent.com/724072/165418570-7338c65b-0fd1-489c-b76a-f03f074f42ca.png\" width=\"600\"/>\n",
    "\n",
    "</div>\n"
   ]
  },
  {
   "cell_type": "markdown",
   "id": "8c583315-816f-44b0-a66b-b5ca75025966",
   "metadata": {},
   "source": [
    "LineaPy is a bridge between data science and machine learning engineering. When it saves the artifact, it automatically saved the codes to generate the artifacts. It is convinent for data scientists to log their work with codes, and helps to improve the efficiency of the experiment. The generated pipelins are easy for the eningeeirng deployment.\n",
    "\n",
    "### Contents\n",
    " * [Save an artifact](#save-an-artifact)\n",
    " * [List the artifactor store](#list-artifact-store)\n",
    " * [Load an artifact](#load-an-artifact-version)\n",
    " * [Create a pipeline](#create-a-pipeline)"
   ]
  },
  {
   "cell_type": "code",
   "execution_count": 1,
   "id": "9a5e771f-1571-48f1-9294-902965e5bc79",
   "metadata": {},
   "outputs": [],
   "source": [
    "%load_ext lineapy"
   ]
  },
  {
   "cell_type": "code",
   "execution_count": 2,
   "id": "061a765d-2554-4514-ac0d-a5df18a53a77",
   "metadata": {},
   "outputs": [],
   "source": [
    "import os\n",
    "import lineapy\n",
    "\n",
    "\n",
    "import matplotlib.pyplot as plt\n",
    "import numpy as np\n",
    "import pandas as pd\n",
    "import seaborn as sns\n",
    "\n",
    "# Make NumPy printouts easier to read.\n",
    "np.set_printoptions(precision=3, suppress=True)\n",
    "\n",
    "import tensorflow as tf\n",
    "\n",
    "from tensorflow import keras\n",
    "from tensorflow.keras import layers"
   ]
  },
  {
   "cell_type": "code",
   "execution_count": 3,
   "id": "3fbc18cf-d8e3-4ef5-94c5-aeeee49a30f5",
   "metadata": {},
   "outputs": [],
   "source": [
    "url = 'http://archive.ics.uci.edu/ml/machine-learning-databases/auto-mpg/auto-mpg.data'\n",
    "column_names = ['MPG', 'Cylinders', 'Displacement', 'Horsepower', 'Weight',\n",
    "                'Acceleration', 'Model Year', 'Origin']\n",
    "\n",
    "raw_dataset = pd.read_csv(url, names=column_names,\n",
    "                          na_values='?', comment='\\t',\n",
    "                          sep=' ', skipinitialspace=True)"
   ]
  },
  {
   "cell_type": "code",
   "execution_count": 4,
   "id": "08be414c-9555-453c-9ffd-7298072aa0b1",
   "metadata": {},
   "outputs": [
    {
     "name": "stdout",
     "output_type": "stream",
     "text": [
      "First example: [[  28.     4.    90.    75.  2125.    14.5   74.     1.     0.     0. ]]\n",
      "\n"
     ]
    }
   ],
   "source": [
    "dataset = raw_dataset.copy()\n",
    "dataset.tail()\n",
    "\n",
    "dataset.isna().sum()\n",
    "\n",
    "\n",
    "dataset.loc['Origin'] = dataset['Origin'].map({1: 'USA', 2: 'Europe', 3: 'Japan'})\n",
    "#one hot encoding\n",
    "dataset = pd.get_dummies(dataset, columns=['Origin'], prefix='', prefix_sep='')\n",
    "dataset.tail()\n",
    "dataset = dataset.dropna()\n",
    "train_dataset = dataset.sample(frac=0.8, random_state=0)\n",
    "test_dataset = dataset.drop(train_dataset.index)\n",
    "\n",
    "#sns.pairplot(train_dataset[['MPG', 'Cylinders', 'Displacement', 'Weight']], diag_kind='kde')\n",
    "\n",
    "train_dataset.describe().transpose()\n",
    "\n",
    "#normalization\n",
    "train_dataset.describe().transpose()[['mean', 'std']]\n",
    "\n",
    "\n",
    "first = np.array(train_dataset[:1])\n",
    "\n",
    "with np.printoptions(precision=2, suppress=True):\n",
    "    print('First example:', first)\n",
    "    print()\n",
    "  #drop na\n"
   ]
  },
  {
   "cell_type": "code",
   "execution_count": 5,
   "id": "966df997-828a-40cf-a2b5-24a98a91e7f4",
   "metadata": {},
   "outputs": [
    {
     "data": {
      "text/plain": [
       "MPG             0\n",
       "Cylinders       0\n",
       "Displacement    0\n",
       "Horsepower      0\n",
       "Weight          0\n",
       "Acceleration    0\n",
       "Model Year      0\n",
       "1.0             0\n",
       "2.0             0\n",
       "3.0             0\n",
       "dtype: int64"
      ]
     },
     "execution_count": 5,
     "metadata": {},
     "output_type": "execute_result"
    }
   ],
   "source": [
    "test_dataset.isna().sum()"
   ]
  },
  {
   "cell_type": "code",
   "execution_count": 6,
   "id": "53ca1b4e-838d-4a07-87df-d9192b0a6c5d",
   "metadata": {},
   "outputs": [
    {
     "name": "stdout",
     "output_type": "stream",
     "text": [
      "Metal device set to: Apple M1\n"
     ]
    },
    {
     "name": "stderr",
     "output_type": "stream",
     "text": [
      "2022-06-18 15:52:45.504504: I tensorflow/core/common_runtime/pluggable_device/pluggable_device_factory.cc:305] Could not identify NUMA node of platform GPU ID 0, defaulting to 0. Your kernel may not have been built with NUMA support.\n",
      "2022-06-18 15:52:45.504748: I tensorflow/core/common_runtime/pluggable_device/pluggable_device_factory.cc:271] Created TensorFlow device (/job:localhost/replica:0/task:0/device:GPU:0 with 0 MB memory) -> physical PluggableDevice (device: 0, name: METAL, pci bus id: <undefined>)\n",
      "2022-06-18 15:52:45.547660: W tensorflow/core/platform/profile_utils/cpu_utils.cc:128] Failed to get CPU frequency: 0 Hz\n",
      "2022-06-18 15:52:45.618188: I tensorflow/core/grappler/optimizers/custom_graph_optimizer_registry.cc:113] Plugin optimizer for device_type GPU is enabled.\n",
      "2022-06-18 15:52:45.638074: I tensorflow/core/grappler/optimizers/custom_graph_optimizer_registry.cc:113] Plugin optimizer for device_type GPU is enabled.\n"
     ]
    }
   ],
   "source": [
    "train_features = train_dataset.copy()\n",
    "test_features = test_dataset.copy()\n",
    "\n",
    "train_labels = train_features.pop('MPG')\n",
    "test_labels = test_features.pop('MPG')\n",
    "\n",
    "normalizer = tf.keras.layers.Normalization(axis=-1)\n",
    "normalizer.adapt(train_features)"
   ]
  },
  {
   "cell_type": "markdown",
   "id": "8dba9f63-93c4-4aea-bac9-dbb2ba3d18e0",
   "metadata": {},
   "source": [
    "### Save an artifact <a class=\"anchor\" id=\"save-an-artifact\"></a>"
   ]
  },
  {
   "cell_type": "code",
   "execution_count": 7,
   "id": "3c15b447-4f19-4e49-9d48-412b0b810a53",
   "metadata": {},
   "outputs": [
    {
     "name": "stdout",
     "output_type": "stream",
     "text": [
      "<class 'lineapy.api.api_classes.LineaArtifact'>\n"
     ]
    }
   ],
   "source": [
    "# Store the variable as an artifact\n",
    "train_data_artifact = lineapy.save(train_features, \"train_data\")\n",
    "\n",
    "# Check object type\n",
    "print(type(train_data_artifact))\n",
    "\n"
   ]
  },
  {
   "cell_type": "code",
   "execution_count": 8,
   "id": "aa1dd0dc-2157-49c4-a7f4-5ec45bdc80a1",
   "metadata": {},
   "outputs": [
    {
     "data": {
      "text/html": [
       "<div>\n",
       "<style scoped>\n",
       "    .dataframe tbody tr th:only-of-type {\n",
       "        vertical-align: middle;\n",
       "    }\n",
       "\n",
       "    .dataframe tbody tr th {\n",
       "        vertical-align: top;\n",
       "    }\n",
       "\n",
       "    .dataframe thead th {\n",
       "        text-align: right;\n",
       "    }\n",
       "</style>\n",
       "<table border=\"1\" class=\"dataframe\">\n",
       "  <thead>\n",
       "    <tr style=\"text-align: right;\">\n",
       "      <th></th>\n",
       "      <th>Cylinders</th>\n",
       "      <th>Displacement</th>\n",
       "      <th>Horsepower</th>\n",
       "      <th>Weight</th>\n",
       "      <th>Acceleration</th>\n",
       "      <th>Model Year</th>\n",
       "      <th>1.0</th>\n",
       "      <th>2.0</th>\n",
       "      <th>3.0</th>\n",
       "    </tr>\n",
       "  </thead>\n",
       "  <tbody>\n",
       "    <tr>\n",
       "      <th>146</th>\n",
       "      <td>4.0</td>\n",
       "      <td>90.0</td>\n",
       "      <td>75.0</td>\n",
       "      <td>2125.0</td>\n",
       "      <td>14.5</td>\n",
       "      <td>74.0</td>\n",
       "      <td>1</td>\n",
       "      <td>0</td>\n",
       "      <td>0</td>\n",
       "    </tr>\n",
       "    <tr>\n",
       "      <th>282</th>\n",
       "      <td>4.0</td>\n",
       "      <td>140.0</td>\n",
       "      <td>88.0</td>\n",
       "      <td>2890.0</td>\n",
       "      <td>17.3</td>\n",
       "      <td>79.0</td>\n",
       "      <td>1</td>\n",
       "      <td>0</td>\n",
       "      <td>0</td>\n",
       "    </tr>\n",
       "    <tr>\n",
       "      <th>69</th>\n",
       "      <td>8.0</td>\n",
       "      <td>350.0</td>\n",
       "      <td>160.0</td>\n",
       "      <td>4456.0</td>\n",
       "      <td>13.5</td>\n",
       "      <td>72.0</td>\n",
       "      <td>1</td>\n",
       "      <td>0</td>\n",
       "      <td>0</td>\n",
       "    </tr>\n",
       "    <tr>\n",
       "      <th>378</th>\n",
       "      <td>4.0</td>\n",
       "      <td>105.0</td>\n",
       "      <td>63.0</td>\n",
       "      <td>2125.0</td>\n",
       "      <td>14.7</td>\n",
       "      <td>82.0</td>\n",
       "      <td>1</td>\n",
       "      <td>0</td>\n",
       "      <td>0</td>\n",
       "    </tr>\n",
       "    <tr>\n",
       "      <th>331</th>\n",
       "      <td>4.0</td>\n",
       "      <td>97.0</td>\n",
       "      <td>67.0</td>\n",
       "      <td>2145.0</td>\n",
       "      <td>18.0</td>\n",
       "      <td>80.0</td>\n",
       "      <td>0</td>\n",
       "      <td>0</td>\n",
       "      <td>1</td>\n",
       "    </tr>\n",
       "  </tbody>\n",
       "</table>\n",
       "</div>"
      ],
      "text/plain": [
       "     Cylinders  Displacement  Horsepower  Weight  Acceleration  Model Year  \\\n",
       "146        4.0          90.0        75.0  2125.0          14.5        74.0   \n",
       "282        4.0         140.0        88.0  2890.0          17.3        79.0   \n",
       "69         8.0         350.0       160.0  4456.0          13.5        72.0   \n",
       "378        4.0         105.0        63.0  2125.0          14.7        82.0   \n",
       "331        4.0          97.0        67.0  2145.0          18.0        80.0   \n",
       "\n",
       "     1.0  2.0  3.0  \n",
       "146    1    0    0  \n",
       "282    1    0    0  \n",
       "69     1    0    0  \n",
       "378    1    0    0  \n",
       "331    0    0    1  "
      ]
     },
     "execution_count": 8,
     "metadata": {},
     "output_type": "execute_result"
    }
   ],
   "source": [
    "train_data_artifact.get_value().head()"
   ]
  },
  {
   "cell_type": "code",
   "execution_count": 9,
   "id": "0a79597d-e33a-43d9-b0e3-0263aa1083dd",
   "metadata": {},
   "outputs": [
    {
     "name": "stdout",
     "output_type": "stream",
     "text": [
      "import pandas as pd\n",
      "\n",
      "url = \"http://archive.ics.uci.edu/ml/machine-learning-databases/auto-mpg/auto-mpg.data\"\n",
      "column_names = [\n",
      "    \"MPG\",\n",
      "    \"Cylinders\",\n",
      "    \"Displacement\",\n",
      "    \"Horsepower\",\n",
      "    \"Weight\",\n",
      "    \"Acceleration\",\n",
      "    \"Model Year\",\n",
      "    \"Origin\",\n",
      "]\n",
      "raw_dataset = pd.read_csv(\n",
      "    url, names=column_names, na_values=\"?\", comment=\"\\t\", sep=\" \", skipinitialspace=True\n",
      ")\n",
      "dataset = raw_dataset.copy()\n",
      "dataset = pd.get_dummies(dataset, columns=[\"Origin\"], prefix=\"\", prefix_sep=\"\")\n",
      "dataset = dataset.dropna()\n",
      "train_dataset = dataset.sample(frac=0.8, random_state=0)\n",
      "train_features = train_dataset.copy()\n",
      "train_labels = train_features.pop(\"MPG\")\n",
      "\n"
     ]
    }
   ],
   "source": [
    "print(train_data_artifact.get_code())"
   ]
  },
  {
   "cell_type": "code",
   "execution_count": 10,
   "id": "af8a8759-0a50-40a5-8348-0985525a5c1c",
   "metadata": {},
   "outputs": [],
   "source": [
    "# copy the above codes here to verify."
   ]
  },
  {
   "cell_type": "code",
   "execution_count": 11,
   "id": "e6d8579a-9a44-4c3b-83f8-a98099d8e194",
   "metadata": {},
   "outputs": [
    {
     "name": "stdout",
     "output_type": "stream",
     "text": [
      "<class 'pandas.core.series.Series'>\n",
      "<class 'lineapy.api.api_classes.LineaArtifact'>\n",
      "<class 'pandas.core.series.Series'>\n"
     ]
    }
   ],
   "source": [
    "# Store the variable as an artifact\n",
    "lineapy.save(train_labels, \"train_labels\")\n",
    "\n",
    "# Check object type\n",
    "print(type(train_labels))\n",
    "\n",
    "# Store the variable as an artifact\n",
    "test_data_artifact = lineapy.save(test_features, \"test_data\")\n",
    "\n",
    "# Check object type\n",
    "print(type(test_data_artifact))\n",
    "\n",
    "# Store the variable as an artifact\n",
    "train_label_art = lineapy.save(test_labels, \"test_labels\")\n",
    "\n",
    "# Check object type\n",
    "print(type(test_labels))"
   ]
  },
  {
   "cell_type": "code",
   "execution_count": 12,
   "id": "883de635-e81d-494c-b4bc-1f6e5811bf6a",
   "metadata": {},
   "outputs": [
    {
     "name": "stderr",
     "output_type": "stream",
     "text": [
      "2022-06-18 15:52:48.587354: I tensorflow/core/grappler/optimizers/custom_graph_optimizer_registry.cc:113] Plugin optimizer for device_type GPU is enabled.\n",
      "2022-06-18 15:52:48.741320: I tensorflow/core/grappler/optimizers/custom_graph_optimizer_registry.cc:113] Plugin optimizer for device_type GPU is enabled.\n"
     ]
    },
    {
     "data": {
      "image/png": "[encoded data removed]",
      "text/plain": [
       "<Figure size 432x288 with 1 Axes>"
      ]
     },
     "metadata": {
      "needs_background": "light"
     },
     "output_type": "display_data"
    }
   ],
   "source": [
    "#Linear regression Model\n",
    "linear_model = tf.keras.Sequential([\n",
    "    normalizer,\n",
    "    layers.Dense(units=1)\n",
    "])\n",
    "\n",
    "\n",
    "\n",
    "#linear_model.predict(train_features[:10])\n",
    "\n",
    "#linear_model.layers[1].kernel\n",
    "\n",
    "linear_model.compile(\n",
    "    optimizer=tf.optimizers.Adam(learning_rate=0.1),\n",
    "    loss='mean_absolute_error')\n",
    "\n",
    "history = linear_model.fit(\n",
    "    train_features,\n",
    "    train_labels,\n",
    "    epochs=100,\n",
    "    # Suppress logging.\n",
    "    verbose=0,\n",
    "    # Calculate validation results on 20% of the training data.\n",
    "    validation_split=0.2)\n",
    "\n",
    "def plot_loss(history):\n",
    "    plt.plot(history.history['loss'], label='loss')\n",
    "    plt.plot(history.history['val_loss'], label='val_loss')\n",
    "    plt.ylim([0, 30])\n",
    "    plt.xlabel('Epoch')\n",
    "    plt.ylabel('Error [MPG]')\n",
    "    plt.legend()\n",
    "    plt.grid(True)\n",
    "\n",
    "plot_loss(history)\n",
    "\n",
    "test_results = {}\n",
    "test_results['linear_model'] = linear_model.evaluate(\n",
    "    test_features, test_labels, verbose=0)"
   ]
  },
  {
   "cell_type": "code",
   "execution_count": 13,
   "id": "16cc9a1f-5210-4753-bb7a-3353540b67ae",
   "metadata": {},
   "outputs": [
    {
     "name": "stdout",
     "output_type": "stream",
     "text": [
      "Model: \"sequential_1\"\n",
      "_________________________________________________________________\n",
      " Layer (type)                Output Shape              Param #   \n",
      "=================================================================\n",
      " normalization (Normalizatio  (None, 9)                19        \n",
      " n)                                                              \n",
      "                                                                 \n",
      " dense_1 (Dense)             (None, 64)                640       \n",
      "                                                                 \n",
      " dense_2 (Dense)             (None, 64)                4160      \n",
      "                                                                 \n",
      " dense_3 (Dense)             (None, 1)                 65        \n",
      "                                                                 \n",
      "=================================================================\n",
      "Total params: 4,884\n",
      "Trainable params: 4,865\n",
      "Non-trainable params: 19\n",
      "_________________________________________________________________\n"
     ]
    },
    {
     "name": "stderr",
     "output_type": "stream",
     "text": [
      "2022-06-18 15:52:52.443087: I tensorflow/core/grappler/optimizers/custom_graph_optimizer_registry.cc:113] Plugin optimizer for device_type GPU is enabled.\n",
      "2022-06-18 15:52:52.614684: I tensorflow/core/grappler/optimizers/custom_graph_optimizer_registry.cc:113] Plugin optimizer for device_type GPU is enabled.\n"
     ]
    },
    {
     "data": {
      "image/png": "[encoded data removed]",
      "text/plain": [
       "<Figure size 432x288 with 1 Axes>"
      ]
     },
     "metadata": {
      "needs_background": "light"
     },
     "output_type": "display_data"
    }
   ],
   "source": [
    "#DNN Model\n",
    "def build_and_compile_model(norm):\n",
    "    model = keras.Sequential([\n",
    "      norm,\n",
    "      layers.Dense(64, activation='relu'),\n",
    "      layers.Dense(64, activation='relu'),\n",
    "      layers.Dense(1)\n",
    "    ])\n",
    "\n",
    "    model.compile(loss='mean_absolute_error',\n",
    "                optimizer=tf.keras.optimizers.Adam(0.001))\n",
    "    return model\n",
    "\n",
    "dnn_model = build_and_compile_model(normalizer)\n",
    "dnn_model.summary()\n",
    "\n",
    "\n",
    "history = dnn_model.fit(\n",
    "    train_features,\n",
    "    train_labels,\n",
    "    validation_split=0.2,\n",
    "    verbose=0, epochs=100)\n",
    "\n",
    "def plot_loss(history):\n",
    "    plt.plot(history.history['loss'], label='loss')\n",
    "    plt.plot(history.history['val_loss'], label='val_loss')\n",
    "    plt.ylim([0, 30])\n",
    "    plt.xlabel('Epoch')\n",
    "    plt.ylabel('Error [MPG]')\n",
    "    plt.legend()\n",
    "    plt.grid(True)\n",
    "\n",
    "    \n",
    "plot_loss(history)\n",
    "\n",
    "test_results['dnn_model'] = dnn_model.evaluate(test_features, test_labels, verbose=0)\n",
    "\n"
   ]
  },
  {
   "cell_type": "code",
   "execution_count": 14,
   "id": "2e525ca6-bd5d-421d-8eea-27f76aa8b382",
   "metadata": {},
   "outputs": [
    {
     "data": {
      "text/html": [
       "<div>\n",
       "<style scoped>\n",
       "    .dataframe tbody tr th:only-of-type {\n",
       "        vertical-align: middle;\n",
       "    }\n",
       "\n",
       "    .dataframe tbody tr th {\n",
       "        vertical-align: top;\n",
       "    }\n",
       "\n",
       "    .dataframe thead th {\n",
       "        text-align: right;\n",
       "    }\n",
       "</style>\n",
       "<table border=\"1\" class=\"dataframe\">\n",
       "  <thead>\n",
       "    <tr style=\"text-align: right;\">\n",
       "      <th></th>\n",
       "      <th>Mean absolute error [MPG]</th>\n",
       "    </tr>\n",
       "  </thead>\n",
       "  <tbody>\n",
       "    <tr>\n",
       "      <th>linear_model</th>\n",
       "      <td>2.480963</td>\n",
       "    </tr>\n",
       "    <tr>\n",
       "      <th>dnn_model</th>\n",
       "      <td>1.715403</td>\n",
       "    </tr>\n",
       "  </tbody>\n",
       "</table>\n",
       "</div>"
      ],
      "text/plain": [
       "              Mean absolute error [MPG]\n",
       "linear_model                   2.480963\n",
       "dnn_model                      1.715403"
      ]
     },
     "execution_count": 14,
     "metadata": {},
     "output_type": "execute_result"
    }
   ],
   "source": [
    "pd.DataFrame(test_results, index=['Mean absolute error [MPG]']).T"
   ]
  },
  {
   "cell_type": "code",
   "execution_count": 15,
   "id": "90137b42-8b94-4f72-823d-e0f1dbd73ce6",
   "metadata": {},
   "outputs": [
    {
     "data": {
      "text/html": [
       "<pre style=\"white-space:pre;overflow-x:auto;line-height:normal;font-family:Menlo,'DejaVu Sans Mono',consolas,'Courier New',monospace\">Assets written to: ram:<span style=\"color: #800080; text-decoration-color: #800080\">//80466140-79af-4113-9877-d8df5da5511e/</span><span style=\"color: #ff00ff; text-decoration-color: #ff00ff\">assets</span>                         \n",
       "</pre>\n"
      ],
      "text/plain": [
       "Assets written to: ram:\u001b[35m/\u001b[0m\u001b[35m/80466140-79af-4113-9877-d8df5da5511e/\u001b[0m\u001b[95massets\u001b[0m                         \n"
      ]
     },
     "metadata": {},
     "output_type": "display_data"
    }
   ],
   "source": [
    "model_artifact = lineapy.save(dnn_model, 'dnn_model')\n",
    "test_results_artifact = lineapy.save(test_results, 'test_results')"
   ]
  },
  {
   "cell_type": "code",
   "execution_count": 16,
   "id": "ddda8ae3-8455-4128-b5f4-f84c20ced996",
   "metadata": {},
   "outputs": [
    {
     "name": "stdout",
     "output_type": "stream",
     "text": [
      "import pandas as pd\n",
      "import tensorflow as tf\n",
      "from tensorflow import keras\n",
      "from tensorflow.keras import layers\n",
      "\n",
      "url = \"http://archive.ics.uci.edu/ml/machine-learning-databases/auto-mpg/auto-mpg.data\"\n",
      "column_names = [\n",
      "    \"MPG\",\n",
      "    \"Cylinders\",\n",
      "    \"Displacement\",\n",
      "    \"Horsepower\",\n",
      "    \"Weight\",\n",
      "    \"Acceleration\",\n",
      "    \"Model Year\",\n",
      "    \"Origin\",\n",
      "]\n",
      "raw_dataset = pd.read_csv(\n",
      "    url, names=column_names, na_values=\"?\", comment=\"\\t\", sep=\" \", skipinitialspace=True\n",
      ")\n",
      "dataset = raw_dataset.copy()\n",
      "dataset = pd.get_dummies(dataset, columns=[\"Origin\"], prefix=\"\", prefix_sep=\"\")\n",
      "dataset = dataset.dropna()\n",
      "train_dataset = dataset.sample(frac=0.8, random_state=0)\n",
      "train_features = train_dataset.copy()\n",
      "train_labels = train_features.pop(\"MPG\")\n",
      "normalizer = tf.keras.layers.Normalization(axis=-1)\n",
      "\n",
      "\n",
      "def build_and_compile_model(norm):\n",
      "    model = keras.Sequential(\n",
      "        [\n",
      "            norm,\n",
      "            layers.Dense(64, activation=\"relu\"),\n",
      "            layers.Dense(64, activation=\"relu\"),\n",
      "            layers.Dense(1),\n",
      "        ]\n",
      "    )\n",
      "\n",
      "    model.compile(loss=\"mean_absolute_error\", optimizer=tf.keras.optimizers.Adam(0.001))\n",
      "    return model\n",
      "\n",
      "\n",
      "dnn_model = build_and_compile_model(normalizer)\n",
      "history = dnn_model.fit(\n",
      "    train_features, train_labels, validation_split=0.2, verbose=0, epochs=100\n",
      ")\n",
      "\n"
     ]
    }
   ],
   "source": [
    "print(model_artifact.get_code())"
   ]
  },
  {
   "cell_type": "markdown",
   "id": "4a8a50a0-ae47-4bea-9454-c55663ec4180",
   "metadata": {},
   "source": [
    "### List the artifacto store <a class=\"anchor\" id=\"list-artifact-store\"></a>"
   ]
  },
  {
   "cell_type": "code",
   "execution_count": 17,
   "id": "36bdc6dd-a407-4342-bbbf-4b3c31900e68",
   "metadata": {},
   "outputs": [
    {
     "data": {
      "text/plain": [
       "train_data:0 created on 2022-06-16 19:39:55.833463\n",
       "train_data:1 created on 2022-06-17 02:31:34.222560\n",
       "train_labels:0 created on 2022-06-17 02:31:47.336271\n",
       "test_data:0 created on 2022-06-17 02:31:47.741501\n",
       "test_labels:0 created on 2022-06-17 02:31:48.150291\n",
       "train_data:2 created on 2022-06-17 02:37:44.322165\n",
       "train_labels:1 created on 2022-06-17 02:37:49.389819\n",
       "test_data:1 created on 2022-06-17 02:37:49.799428\n",
       "test_labels:1 created on 2022-06-17 02:37:50.209388\n",
       "train_data:3 created on 2022-06-17 02:56:02.199295\n",
       "train_labels:2 created on 2022-06-17 02:56:14.624117\n",
       "test_data:2 created on 2022-06-17 02:56:15.050927\n",
       "test_labels:2 created on 2022-06-17 02:56:15.447512\n",
       "train_data:4 created on 2022-06-17 02:59:00.727015\n",
       "train_labels:3 created on 2022-06-17 02:59:05.123476\n",
       "test_data:3 created on 2022-06-17 02:59:05.524397\n",
       "test_labels:3 created on 2022-06-17 02:59:05.913697\n",
       "train_data:5 created on 2022-06-17 03:00:11.696949\n",
       "train_labels:4 created on 2022-06-17 03:00:14.147130\n",
       "test_data:4 created on 2022-06-17 03:00:14.559287\n",
       "test_labels:4 created on 2022-06-17 03:00:14.966661\n",
       "train_data:6 created on 2022-06-17 03:28:59.377310\n",
       "train_labels:5 created on 2022-06-17 03:29:02.419917\n",
       "test_data:5 created on 2022-06-17 03:29:02.813737\n",
       "test_labels:5 created on 2022-06-17 03:29:03.221589\n",
       "train_data:7 created on 2022-06-17 03:35:57.941116\n",
       "train_labels:6 created on 2022-06-17 03:36:06.885906\n",
       "test_data:6 created on 2022-06-17 03:36:07.277157\n",
       "test_labels:6 created on 2022-06-17 03:36:07.676173\n",
       "train_data:8 created on 2022-06-17 03:41:44.203507\n",
       "train_labels:7 created on 2022-06-17 03:41:47.179089\n",
       "test_data:7 created on 2022-06-17 03:41:47.559346\n",
       "test_labels:7 created on 2022-06-17 03:41:47.968449\n",
       "dnn_model:0 created on 2022-06-17 12:33:48.261825\n",
       "train_labels:8 created on 2022-06-18 05:01:39.036580\n",
       "test_data:8 created on 2022-06-18 05:01:39.447372\n",
       "test_labels:8 created on 2022-06-18 05:01:39.842459\n",
       "train_data:9 created on 2022-06-18 05:02:59.052030\n",
       "train_data:10 created on 2022-06-18 05:03:06.468690\n",
       "train_data:11 created on 2022-06-18 05:05:52.291623\n",
       "train_labels:9 created on 2022-06-18 05:15:07.824961\n",
       "test_data:9 created on 2022-06-18 05:15:08.232347\n",
       "test_labels:9 created on 2022-06-18 05:15:08.639413\n",
       "train_labels:10 created on 2022-06-18 05:15:13.904064\n",
       "test_data:10 created on 2022-06-18 05:15:14.267107\n",
       "test_labels:10 created on 2022-06-18 05:15:14.656198\n",
       "dnn_model:1 created on 2022-06-18 05:15:24.352685\n",
       "train_labels:11 created on 2022-06-18 05:18:29.227043\n",
       "test_data:11 created on 2022-06-18 05:18:29.642390\n",
       "test_labels:11 created on 2022-06-18 05:18:30.051018\n",
       "train_labels:12 created on 2022-06-18 05:18:35.779555\n",
       "test_data:12 created on 2022-06-18 05:18:36.172792\n",
       "test_labels:12 created on 2022-06-18 05:18:36.588992\n",
       "dnn_model:2 created on 2022-06-18 05:19:40.229851\n",
       "test_results:0 created on 2022-06-18 05:19:40.644897\n",
       "dnn_model:3 created on 2022-06-18 05:20:20.329101\n",
       "test_results:1 created on 2022-06-18 05:20:20.740452\n",
       "train_data:12 created on 2022-06-18 05:24:11.585372\n",
       "train_labels:13 created on 2022-06-18 05:24:12.909246\n",
       "test_data:13 created on 2022-06-18 05:24:13.309294\n",
       "test_labels:13 created on 2022-06-18 05:24:13.707430\n",
       "dnn_model:4 created on 2022-06-18 05:24:23.184424\n",
       "test_results:2 created on 2022-06-18 05:24:23.568822\n",
       "train_data:13 created on 2022-06-18 19:52:45.738474\n",
       "train_labels:14 created on 2022-06-18 19:52:47.118222\n",
       "test_data:14 created on 2022-06-18 19:52:47.496740\n",
       "test_labels:14 created on 2022-06-18 19:52:47.904823\n",
       "dnn_model:5 created on 2022-06-18 19:52:57.367283\n",
       "test_results:3 created on 2022-06-18 19:52:57.750195"
      ]
     },
     "execution_count": 17,
     "metadata": {},
     "output_type": "execute_result"
    }
   ],
   "source": [
    "# List all saved artifacts\n",
    "lineapy.artifact_store()"
   ]
  },
  {
   "cell_type": "markdown",
   "id": "c7ba43ec-5ab1-4234-b063-ca23f1a303f6",
   "metadata": {},
   "source": [
    "By default, the get() method retrieves the latest version of the given artifact. To retrieve a particular version of the artifact, we can specify the value of the optional argument version"
   ]
  },
  {
   "cell_type": "code",
   "execution_count": 18,
   "id": "833f70a3-547c-4e42-aecb-3a1479d96de8",
   "metadata": {},
   "outputs": [
    {
     "data": {
      "text/plain": [
       "13"
      ]
     },
     "execution_count": 18,
     "metadata": {},
     "output_type": "execute_result"
    }
   ],
   "source": [
    "lineapy.get('train_data').version"
   ]
  },
  {
   "cell_type": "markdown",
   "id": "ed249a55-97b3-42a0-83ec-8a86f79baba6",
   "metadata": {},
   "source": [
    "### Load an artifact <a class=\"anchor\" id=\"load-an-artifact-version\"></a>\n",
    "By default, lineapy loads the latest version"
   ]
  },
  {
   "cell_type": "code",
   "execution_count": 19,
   "id": "cde3a111-262e-47ec-993c-2a45bb52627a",
   "metadata": {},
   "outputs": [],
   "source": [
    "train_mod_art = lineapy.get('train_data', version=7)"
   ]
  },
  {
   "cell_type": "code",
   "execution_count": 20,
   "id": "fec705f0-8964-4909-9228-d3c6640991bc",
   "metadata": {},
   "outputs": [
    {
     "data": {
      "text/html": [
       "<div>\n",
       "<style scoped>\n",
       "    .dataframe tbody tr th:only-of-type {\n",
       "        vertical-align: middle;\n",
       "    }\n",
       "\n",
       "    .dataframe tbody tr th {\n",
       "        vertical-align: top;\n",
       "    }\n",
       "\n",
       "    .dataframe thead th {\n",
       "        text-align: right;\n",
       "    }\n",
       "</style>\n",
       "<table border=\"1\" class=\"dataframe\">\n",
       "  <thead>\n",
       "    <tr style=\"text-align: right;\">\n",
       "      <th></th>\n",
       "      <th>Cylinders</th>\n",
       "      <th>Displacement</th>\n",
       "      <th>Horsepower</th>\n",
       "      <th>Weight</th>\n",
       "      <th>Acceleration</th>\n",
       "      <th>Model Year</th>\n",
       "      <th>1.0</th>\n",
       "      <th>2.0</th>\n",
       "      <th>3.0</th>\n",
       "    </tr>\n",
       "  </thead>\n",
       "  <tbody>\n",
       "    <tr>\n",
       "      <th>114</th>\n",
       "      <td>4.0</td>\n",
       "      <td>98.0</td>\n",
       "      <td>90.0</td>\n",
       "      <td>2265.0</td>\n",
       "      <td>15.5</td>\n",
       "      <td>73.0</td>\n",
       "      <td>0</td>\n",
       "      <td>1</td>\n",
       "      <td>0</td>\n",
       "    </tr>\n",
       "    <tr>\n",
       "      <th>283</th>\n",
       "      <td>6.0</td>\n",
       "      <td>232.0</td>\n",
       "      <td>90.0</td>\n",
       "      <td>3265.0</td>\n",
       "      <td>18.2</td>\n",
       "      <td>79.0</td>\n",
       "      <td>1</td>\n",
       "      <td>0</td>\n",
       "      <td>0</td>\n",
       "    </tr>\n",
       "    <tr>\n",
       "      <th>69</th>\n",
       "      <td>8.0</td>\n",
       "      <td>350.0</td>\n",
       "      <td>160.0</td>\n",
       "      <td>4456.0</td>\n",
       "      <td>13.5</td>\n",
       "      <td>72.0</td>\n",
       "      <td>1</td>\n",
       "      <td>0</td>\n",
       "      <td>0</td>\n",
       "    </tr>\n",
       "    <tr>\n",
       "      <th>157</th>\n",
       "      <td>8.0</td>\n",
       "      <td>350.0</td>\n",
       "      <td>145.0</td>\n",
       "      <td>4440.0</td>\n",
       "      <td>14.0</td>\n",
       "      <td>75.0</td>\n",
       "      <td>1</td>\n",
       "      <td>0</td>\n",
       "      <td>0</td>\n",
       "    </tr>\n",
       "    <tr>\n",
       "      <th>332</th>\n",
       "      <td>4.0</td>\n",
       "      <td>89.0</td>\n",
       "      <td>62.0</td>\n",
       "      <td>1845.0</td>\n",
       "      <td>15.3</td>\n",
       "      <td>80.0</td>\n",
       "      <td>0</td>\n",
       "      <td>1</td>\n",
       "      <td>0</td>\n",
       "    </tr>\n",
       "  </tbody>\n",
       "</table>\n",
       "</div>"
      ],
      "text/plain": [
       "     Cylinders  Displacement  Horsepower  Weight  Acceleration  Model Year  \\\n",
       "114        4.0          98.0        90.0  2265.0          15.5        73.0   \n",
       "283        6.0         232.0        90.0  3265.0          18.2        79.0   \n",
       "69         8.0         350.0       160.0  4456.0          13.5        72.0   \n",
       "157        8.0         350.0       145.0  4440.0          14.0        75.0   \n",
       "332        4.0          89.0        62.0  1845.0          15.3        80.0   \n",
       "\n",
       "     1.0  2.0  3.0  \n",
       "114    0    1    0  \n",
       "283    1    0    0  \n",
       "69     1    0    0  \n",
       "157    1    0    0  \n",
       "332    0    1    0  "
      ]
     },
     "execution_count": 20,
     "metadata": {},
     "output_type": "execute_result"
    }
   ],
   "source": [
    "train_mod_art.get_value().head()"
   ]
  },
  {
   "cell_type": "markdown",
   "id": "b1a0f761-2a93-45ff-9df8-00521c6f99af",
   "metadata": {},
   "source": [
    "### Create a pipleline <a class=\"anchor\" id=\"create-a-pipeline\"></a>\n",
    "The artifacts may contain duplicate codes. The pipeline will detect any overlap and will not repeat the codes."
   ]
  },
  {
   "cell_type": "markdown",
   "id": "24541d80-4450-4638-81a0-bfdabb32bae8",
   "metadata": {},
   "source": [
    "Given the recurring updates in the source data, we may want to build and schedule a pipeline to automatically rerun the code of both artifacts on a regular basis."
   ]
  },
  {
   "cell_type": "code",
   "execution_count": 21,
   "id": "f4581297-2337-4cc8-8912-80427ba0130d",
   "metadata": {},
   "outputs": [
    {
     "data": {
      "text/html": [
       "<pre style=\"white-space:pre;overflow-x:auto;line-height:normal;font-family:Menlo,'DejaVu Sans Mono',consolas,'Courier New',monospace\">Pipeline source generated in the directory: output/00_api_basics/demo_pipeline               \n",
       "</pre>\n"
      ],
      "text/plain": [
       "Pipeline source generated in the directory: output/00_api_basics/demo_pipeline               \n"
      ]
     },
     "metadata": {},
     "output_type": "display_data"
    },
    {
     "data": {
      "text/html": [
       "<pre style=\"white-space:pre;overflow-x:auto;line-height:normal;font-family:Menlo,'DejaVu Sans Mono',consolas,'Courier New',monospace\">Generated python module demo_pipeline.py                                                     \n",
       "</pre>\n"
      ],
      "text/plain": [
       "Generated python module demo_pipeline.py                                                     \n"
      ]
     },
     "metadata": {},
     "output_type": "display_data"
    },
    {
     "data": {
      "text/html": [
       "<pre style=\"white-space:pre;overflow-x:auto;line-height:normal;font-family:Menlo,'DejaVu Sans Mono',consolas,'Courier New',monospace\">Generated Dockerfile demo_pipeline_Dockerfile                                                \n",
       "</pre>\n"
      ],
      "text/plain": [
       "Generated Dockerfile demo_pipeline_Dockerfile                                                \n"
      ]
     },
     "metadata": {},
     "output_type": "display_data"
    },
    {
     "data": {
      "text/html": [
       "<pre style=\"white-space:pre;overflow-x:auto;line-height:normal;font-family:Menlo,'DejaVu Sans Mono',consolas,'Courier New',monospace\">Generated requirements file demo_pipeline_requirements.txt                                   \n",
       "</pre>\n"
      ],
      "text/plain": [
       "Generated requirements file demo_pipeline_requirements.txt                                   \n"
      ]
     },
     "metadata": {},
     "output_type": "display_data"
    },
    {
     "data": {
      "text/html": [
       "<pre style=\"white-space:pre;overflow-x:auto;line-height:normal;font-family:Menlo,'DejaVu Sans Mono',consolas,'Courier New',monospace\">Added Airflow DAG named demo_pipeline_dag. Start a run from the Airflow UI or CLI.           \n",
       "</pre>\n"
      ],
      "text/plain": [
       "Added Airflow DAG named demo_pipeline_dag. Start a run from the Airflow UI or CLI.           \n"
      ]
     },
     "metadata": {},
     "output_type": "display_data"
    },
    {
     "data": {
      "text/plain": [
       "PosixPath('output/00_api_basics/demo_pipeline')"
      ]
     },
     "execution_count": 21,
     "metadata": {},
     "output_type": "execute_result"
    }
   ],
   "source": [
    "# Build an Airflow pipeline with both length and width artifacts\n",
    "lineapy.to_pipeline(\n",
    "    artifacts=[train_data_artifact.name, train_label_art.name, train_mod_art.name, test_data_artifact.name, test_results_artifact.name],\n",
    "    pipeline_name=\"demo_pipeline\",\n",
    "    framework=\"AIRFLOW\",\n",
    "    dependencies={\n",
    "      train_mod_art.name: { train_data_artifact.name, train_label_art.name}, test_results_artifact.name:{train_mod_art.name, test_data_artifact.name}\n",
    "   },\n",
    "    output_dir=\"output/00_api_basics/demo_pipeline/\",\n",
    ")"
   ]
  },
  {
   "cell_type": "code",
   "execution_count": 22,
   "id": "8e941aab-cfa7-4fb1-b8c0-3818e315f4d6",
   "metadata": {},
   "outputs": [
    {
     "name": "stdout",
     "output_type": "stream",
     "text": [
      "demo_pipeline.py               demo_pipeline_dag.py\n",
      "demo_pipeline_Dockerfile       demo_pipeline_requirements.txt\n"
     ]
    }
   ],
   "source": [
    "!ls output/00_api_basics/demo_pipeline"
   ]
  },
  {
   "cell_type": "code",
   "execution_count": 23,
   "id": "5178c830-f055-43cc-ba61-536fc4ac3660",
   "metadata": {},
   "outputs": [
    {
     "name": "stdout",
     "output_type": "stream",
     "text": [
      "import os\n",
      "\n",
      "import demo_pipeline\n",
      "from airflow import DAG\n",
      "from airflow.operators.python_operator import PythonOperator\n",
      "from airflow.utils.dates import days_ago\n",
      "\n",
      "default_dag_args = {\"owner\": \"airflow\", \"retries\": 2, \"start_date\": days_ago(1)}\n",
      "\n",
      "dag = DAG(\n",
      "    dag_id=\"demo_pipeline_dag\",\n",
      "    schedule_interval=\"*/15 * * * *\",\n",
      "    max_active_runs=1,\n",
      "    catchup=False,\n",
      "    default_args=default_dag_args,\n",
      ")\n",
      "\n",
      "\n",
      "train_data = PythonOperator(\n",
      "    dag=dag,\n",
      "    task_id=\"train_data_task\",\n",
      "    python_callable=demo_pipeline.train_data,\n",
      ")\n",
      "\n",
      "test_labels = PythonOperator(\n",
      "    dag=dag,\n",
      "    task_id=\"test_labels_task\",\n",
      "    python_callable=demo_pipeline.test_labels,\n",
      ")\n",
      "\n",
      "train_data = PythonOperator(\n",
      "    dag=dag,\n",
      "    task_id=\"train_data_task\",\n",
      "    python_callable=demo_pipeline.train_data,\n",
      ")\n",
      "\n",
      "test_data = PythonOperator(\n",
      "    dag=dag,\n",
      "    task_id=\"test_data_task\",\n",
      "    python_callable=demo_pipeline.test_data,\n",
      ")\n",
      "\n",
      "test_results = PythonOperator(\n",
      "    dag=dag,\n",
      "    task_id=\"test_results_task\",\n",
      "    python_callable=demo_pipeline.test_results,\n",
      ")\n",
      "\n",
      "\n",
      "train_data >> train_data\n",
      "train_data >> test_results\n",
      "test_labels >> train_data\n",
      "test_data >> test_results\n"
     ]
    }
   ],
   "source": [
    "!cat output/00_api_basics/demo_pipeline/demo_pipeline_dag.py"
   ]
  },
  {
   "cell_type": "code",
   "execution_count": 24,
   "id": "0fd38715-f24d-4ca4-8839-d99e37f95dfc",
   "metadata": {},
   "outputs": [
    {
     "name": "stdout",
     "output_type": "stream",
     "text": [
      "lineapy\n",
      "matplotlib==3.5.2\n",
      "numpy==1.22.4\n",
      "pandas==1.4.2\n",
      "seaborn==0.11.2\n",
      "tensorflow==2.9.2\n",
      "tensorflow.keras==2.9.0\n"
     ]
    }
   ],
   "source": [
    "!cat output/00_api_basics/demo_pipeline/demo_pipeline_requirements.txt"
   ]
  },
  {
   "cell_type": "code",
   "execution_count": null,
   "id": "b3c5e3b8-ceaf-4024-9b6d-fee095ef8db8",
   "metadata": {},
   "outputs": [],
   "source": []
  }
 ],
 "metadata": {
  "kernelspec": {
   "display_name": "py38",
   "language": "python",
   "name": "py38"
  },
  "language_info": {
   "codemirror_mode": {
    "name": "ipython",
    "version": 3
   },
   "file_extension": ".py",
   "mimetype": "text/x-python",
   "name": "python",
   "nbconvert_exporter": "python",
   "pygments_lexer": "ipython3",
   "version": "3.9.13"
  }
 },
 "nbformat": 4,
 "nbformat_minor": 5
}
