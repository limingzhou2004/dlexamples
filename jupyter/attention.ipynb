{
 "cells": [
  {
   "cell_type": "markdown",
   "id": "f9461ede-b3ec-4c5e-a182-413360caa8ed",
   "metadata": {},
   "source": [
    "### This is an [example](https://medium.com/intel-student-ambassadors/implementing-attention-models-in-pytorch-f947034b3e66) of attention mechanism."
   ]
  },
  {
   "cell_type": "code",
   "execution_count": null,
   "id": "be1e4536-c911-4089-898e-dbf2255978c9",
   "metadata": {},
   "outputs": [],
   "source": []
  }
 ],
 "metadata": {
  "kernelspec": {
   "display_name": "py38",
   "language": "python",
   "name": "py38"
  },
  "language_info": {
   "codemirror_mode": {
    "name": "ipython",
    "version": 3
   },
   "file_extension": ".py",
   "mimetype": "text/x-python",
   "name": "python",
   "nbconvert_exporter": "python",
   "pygments_lexer": "ipython3",
   "version": "3.8.12"
  }
 },
 "nbformat": 4,
 "nbformat_minor": 5
}
